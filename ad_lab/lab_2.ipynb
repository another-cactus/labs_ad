{
 "cells": [
  {
   "cell_type": "code",
   "execution_count": 1,
   "id": "f29587a2-7590-4a4f-a3b8-4a73ca5809c3",
   "metadata": {},
   "outputs": [
    {
     "name": "stdout",
     "output_type": "stream",
     "text": [
      "VHI is downloaded...\n"
     ]
    }
   ],
   "source": [
    "import urllib.request\n",
    "import datetime\n",
    "import time\n",
    "\n",
    "for i in range(1, 29):\n",
    "    url = f\"https://www.star.nesdis.noaa.gov/smcd/emb/vci/VH/get_TS_admin.php?country=UKR&provinceID={i}&year1=1981&year2=2024&type=Mean\"\n",
    "    wp = urllib.request.urlopen(url)\n",
    "    text = wp.read()\n",
    "    now = datetime.datetime.now()\n",
    "    date_and_time = now.strftime(\"%d-%m-%Y__%H-%M-%S\")\n",
    "    \n",
    "    with open(f'df/id_{str(i)}_{date_and_time}.csv', 'wb') as f:\n",
    "        f.write(text)\n",
    "\n",
    "print(\"VHI is downloaded...\")\n"
   ]
  },
  {
   "cell_type": "code",
   "execution_count": 2,
   "id": "4c56927c-4f84-4240-ab94-95ccbb084bbc",
   "metadata": {},
   "outputs": [
    {
     "name": "stdout",
     "output_type": "stream",
     "text": [
      "Не вдалося зчитати файл df\\.ipynb_checkpoints: [Errno 13] Permission denied: 'df\\\\.ipynb_checkpoints'\n",
      "   year  week    smn     smt    vci    tci    vhi oblast\n",
      "0  1982   1.0  0.059  258.24  51.11  48.78  49.95     10\n",
      "1  1982   2.0  0.063  261.53  55.89  38.20  47.04     10\n",
      "2  1982   3.0  0.063  263.45  57.30  32.69  44.99     10\n",
      "3  1982   4.0  0.061  265.10  53.96  28.62  41.29     10\n",
      "4  1982   5.0  0.058  266.42  46.87  28.57  37.72     10\n"
     ]
    }
   ],
   "source": [
    "import os\n",
    "import pandas as pd\n",
    "\n",
    "def read_csv_files_to_df(directory):\n",
    "    data_frames = []  # список для збереження DataFrame з кожного файлу\n",
    "\n",
    "    # Проходимо по всіх файлах у вказаній директорії\n",
    "    for filename in os.listdir(directory):\n",
    "        reg = filename.split(\"_\")[1]\n",
    "        file_path = os.path.join(directory, filename)\n",
    "\n",
    "        try:\n",
    "            df = pd.read_csv(file_path, index_col=False, header=1)\n",
    "            df.columns = [col.strip().lower().replace(\"<br>\", \"\") for col in df.columns]\n",
    "            df = df.replace(to_replace=r'<.*?>', value='', regex=True)\n",
    "            df[\"oblast\"] = reg\n",
    "            data_frames.append(df)\n",
    "\n",
    "        except Exception as e:\n",
    "            print(f\"Не вдалося зчитати файл {file_path}: {e}\")\n",
    "\n",
    "    # Об'єднуємо всі датафрейми в один\n",
    "    if data_frames:\n",
    "        combined_df = pd.concat(data_frames, ignore_index=True)\n",
    "    else:\n",
    "        combined_df = pd.DataFrame()\n",
    "\n",
    "    return combined_df\n",
    "\n",
    "df = read_csv_files_to_df(\"df\")\n",
    "print(df.head())\n"
   ]
  },
  {
   "cell_type": "code",
   "execution_count": 4,
   "id": "1a2dfa5c-2f1a-4cd6-ad26-09d4e50c4c42",
   "metadata": {},
   "outputs": [],
   "source": [
    "obl_dict = {\n",
    "    1: \"Вінницька\", 2: \"Волинська\", 3: \"Дніпропетровська\", 4: \"Донецька\",\n",
    "    5: \"Житомирська\", 6: \"Закарпатська\", 7: \"Запорізька\", 8: \"Івано-Франківська\",\n",
    "    9: \"Київська\", 10: \"Кіровоградська\", 11: \"Луганська\", 12: \"Львівська\",\n",
    "    13: \"Миколаївська\", 14: \"Одеська\", 15: \"Полтавська\", 16: \"Рівненська\",\n",
    "    17: \"Сумська\", 18: \"Тернопільська\", 19: \"Харківська\", 20: \"Херсонська\",\n",
    "    21: \"Хмельницька\", 22: \"Черкаська\", 23: \"Чернівецька\", 24: \"Чернігівська\",\n",
    "    25: \"Республіка Крим\"\n",
    "}\n",
    "\n",
    "df[\"oblast\"] = df[\"oblast\"].astype(int).map(obl_dict)\n"
   ]
  },
  {
   "cell_type": "code",
   "execution_count": 15,
   "id": "026d570f-c242-48bb-bbc1-2d21cb5dfce7",
   "metadata": {},
   "outputs": [
    {
     "name": "stdout",
     "output_type": "stream",
     "text": [
      "      year  week    smn     smt    vci    tci    vhi          oblast\n",
      "1872  2018   1.0  0.071  260.87  63.46  35.69  49.57  Кіровоградська\n",
      "1873  2018   2.0  0.070  259.63  64.12  40.79  52.46  Кіровоградська\n",
      "1874  2018   3.0  0.071  259.85  64.14  45.75  54.95  Кіровоградська\n",
      "1875  2018   4.0  0.071  258.79  62.36  46.69  54.53  Кіровоградська\n",
      "1876  2018   5.0  0.065  257.71  53.36  51.54  52.45  Кіровоградська\n",
      "1877  2018   6.0  0.063  259.61  42.31  57.21  49.76  Кіровоградська\n",
      "1878  2018   7.0  0.064  261.47  38.31  55.28  46.80  Кіровоградська\n",
      "1879  2018   8.0  0.068  262.87  38.86  56.20  47.53  Кіровоградська\n",
      "1880  2018   9.0  0.077  264.33  40.67  57.98  49.32  Кіровоградська\n",
      "1881  2018  10.0  0.088  266.63  43.68  55.04  49.36  Кіровоградська\n"
     ]
    }
   ],
   "source": [
    "#перетворити ствопчик років з рядка на ціле число\n",
    "df[\"year\"] = pd.to_numeric(df[\"year\"], errors=\"coerce\").astype(\"Int64\")\n",
    "\n",
    "print(df[(df[\"year\"]==2018)][:10])"
   ]
  },
  {
   "cell_type": "code",
   "execution_count": 16,
   "id": "33e9555c-326c-4fe4-a4c3-fd9e1ee62239",
   "metadata": {},
   "outputs": [
    {
     "name": "stdout",
     "output_type": "stream",
     "text": [
      "vhi для Запорізька області на 2003 рік склав \n",
      "[49.88, 49.62, 49.35, 49.47, 48.44, 47.89, 47.71, 47.38, -1.0, 46.67, 48.57, 52.37, 54.05, 53.09, 49.87, 47.15, 45.66, 45.24, 44.42, 45.53, 47.71, 48.7, 49.55, 49.95, 49.04, 49.17, 48.97, 48.57, 48.56, 48.49, 46.31, 45.01, 43.34, 44.93, 46.2, 46.81, 47.96, 48.19, 48.97, 50.84, 52.19, 53.4, 51.44, 49.14, 46.99, 46.69, 48.37, 50.05, 50.44, 51.18, 54.03, 58.49]\n",
      "\n",
      "\tMIN: -1.0\n",
      "\tMAX: 58.49\n",
      "\n",
      "\tAVG: 47.90461538461538\n",
      "\tMED: 48.57\n"
     ]
    }
   ],
   "source": [
    "import statistics\n",
    "\n",
    "def vhi_obl_year(obl, year):\n",
    "    res = df[(df[\"oblast\"] == obl) & (df[\"year\"] == year)]\n",
    "    res_vhi = list(res[\"vhi\"])\n",
    "\n",
    "    print(f\"vhi для {obl} області на {year} рік склав \\n{res_vhi}\")\n",
    "\n",
    "    print(\"\\n\\tMIN:\", min(res_vhi))\n",
    "    print(\"\\tMAX:\", max(res_vhi))\n",
    "\n",
    "    print(\"\\n\\tAVG:\", statistics.mean(res_vhi))\n",
    "    print(\"\\tMED:\", statistics.median(res_vhi))\n",
    "\n",
    "vhi_obl_year(\"Запорізька\", 2003)\n"
   ]
  },
  {
   "cell_type": "code",
   "execution_count": 17,
   "id": "693a584d-8c18-4630-bcb0-2edb57f888ee",
   "metadata": {},
   "outputs": [
    {
     "name": "stdout",
     "output_type": "stream",
     "text": [
      "vhi для ['Запорізька', 'Волинська', 'Херсонська'] області на 1990-2021 має 5148 значень\n",
      "\n",
      "\tMIN: -1.0\n",
      "\tMAX: 80.65\n",
      "\n",
      "\tAVG: 47.26319735819736\n",
      "\tMED: 47.9\n"
     ]
    }
   ],
   "source": [
    "def vhi_obls_years(obl, min_year, max_year):\n",
    "    res = df[(df[\"oblast\"].isin(obl)) & (df[\"year\"].between(min_year, max_year+1))]\n",
    "    res_vhi = list(res[\"vhi\"])\n",
    "\n",
    "    print(f\"vhi для {obl} області на {min_year}-{max_year} має {len(res_vhi)} значень\")\n",
    "\n",
    "    print(\"\\n\\tMIN:\", min(res_vhi))\n",
    "    print(\"\\tMAX:\", max(res_vhi))\n",
    "\n",
    "    print(\"\\n\\tAVG:\", statistics.mean(res_vhi))\n",
    "    print(\"\\tMED:\", statistics.median(res_vhi))\n",
    "\n",
    "vhi_obls_years([\"Запорізька\", \"Волинська\", \"Херсонська\"], 1990, 2021)\n"
   ]
  },
  {
   "cell_type": "code",
   "execution_count": 27,
   "id": "1435b22a-3058-40a2-8ccf-144acac12c83",
   "metadata": {},
   "outputs": [
    {
     "name": "stdout",
     "output_type": "stream",
     "text": [
      "Було 3 посушливих років\n",
      "[1985, 1986, 1994]\n"
     ]
    }
   ],
   "source": [
    "def drought_years(percent=0):\n",
    "    draught_years = []\n",
    "    oblasti = df[\"oblast\"].unique()\n",
    "    min_obl_num = int(percent * len(oblasti) / 100)\n",
    "\n",
    "    for year in df[\"year\"].unique():\n",
    "        draughts_in = 0\n",
    "        for obl in oblasti:\n",
    "            res = df[(df[\"oblast\"] == obl) & (df[\"year\"] == year)]\n",
    "            res_vhi = list(res[\"vhi\"])\n",
    "            if len(res_vhi) != 0:\n",
    "                if statistics.mean(res_vhi) < 35:\n",
    "                    draughts_in += 1\n",
    "\n",
    "        if draughts_in > min_obl_num:\n",
    "            draught_years.append(int(year))\n",
    "\n",
    "    print(f\"Було {len(draught_years)} посушливих років\")\n",
    "    print(draught_years)\n",
    "\n",
    "drought_years(20)\n"
   ]
  },
  {
   "cell_type": "code",
   "execution_count": null,
   "id": "4a4edc09-7fe7-480b-8aad-3434726a36d3",
   "metadata": {},
   "outputs": [],
   "source": []
  }
 ],
 "metadata": {
  "kernelspec": {
   "display_name": "Python 3 (ipykernel)",
   "language": "python",
   "name": "python3"
  },
  "language_info": {
   "codemirror_mode": {
    "name": "ipython",
    "version": 3
   },
   "file_extension": ".py",
   "mimetype": "text/x-python",
   "name": "python",
   "nbconvert_exporter": "python",
   "pygments_lexer": "ipython3",
   "version": "3.12.9"
  }
 },
 "nbformat": 4,
 "nbformat_minor": 5
}
